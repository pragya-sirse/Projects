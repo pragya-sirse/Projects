{
 "cells": [
  {
   "cell_type": "code",
   "execution_count": 1,
   "id": "5c47d9fa",
   "metadata": {},
   "outputs": [
    {
     "name": "stdout",
     "output_type": "stream",
     "text": [
      "enter a number: 1\n",
      "make a guess:7\n",
      "you were above the number!\n",
      "make a guess:3\n",
      "you were above the number!\n",
      "make a guess:5\n",
      "you were above the number!\n",
      "make a guess:2\n",
      "you were above the number!\n",
      "make a guess:6\n",
      "you were above the number!\n",
      "make a guess:4\n",
      "you were above the number!\n",
      "make a guess:8\n",
      "you were above the number!\n",
      "make a guess:9\n",
      "you were above the number!\n",
      "make a guess:0\n",
      "you got it!\n",
      "you got it in 9 guesses\n"
     ]
    }
   ],
   "source": [
    "import random\n",
    "top_of_range=input(\"enter a number: \")\n",
    "if top_of_range.isdigit():\n",
    "    top_of_range=int(top_of_range)\n",
    "    \n",
    "    if top_of_range<=0:\n",
    "        print('please type a number larger than 0 next time.')\n",
    "        quit()\n",
    "else:\n",
    "    print('please type a number next time.')\n",
    "    quit()\n",
    "             \n",
    "random_number=random.randrange(0,top_of_range)\n",
    "guesses=0\n",
    "while True:\n",
    "    guesses+=1\n",
    "    user_guess=input(\"make a guess:\")\n",
    "    if user_guess.isdigit():\n",
    "        user_guess=int(user_guess)\n",
    "    else:\n",
    "        print(\"please type a number next time.\")\n",
    "        continue\n",
    "        \n",
    "    if user_guess==random_number:\n",
    "        print(\"you got it!\")\n",
    "        break\n",
    "    elif user_guess> random_number:\n",
    "        print(\"you were above the number!\")\n",
    "    else:\n",
    "        print(\"you were below the number!\")\n",
    "        print(\"you got it wrong!\")\n",
    "print(\"you got it in\", guesses,\"guesses\")        \n",
    "        "
   ]
  },
  {
   "cell_type": "code",
   "execution_count": null,
   "id": "de987ae9",
   "metadata": {},
   "outputs": [],
   "source": []
  },
  {
   "cell_type": "code",
   "execution_count": null,
   "id": "2c16eabc",
   "metadata": {},
   "outputs": [],
   "source": []
  },
  {
   "cell_type": "code",
   "execution_count": null,
   "id": "9b3c798a",
   "metadata": {},
   "outputs": [],
   "source": []
  },
  {
   "cell_type": "code",
   "execution_count": null,
   "id": "c59863a4",
   "metadata": {},
   "outputs": [],
   "source": []
  },
  {
   "cell_type": "code",
   "execution_count": null,
   "id": "93bbee58",
   "metadata": {},
   "outputs": [],
   "source": []
  },
  {
   "cell_type": "code",
   "execution_count": null,
   "id": "9790f237",
   "metadata": {},
   "outputs": [],
   "source": []
  }
 ],
 "metadata": {
  "kernelspec": {
   "display_name": "Python 3 (ipykernel)",
   "language": "python",
   "name": "python3"
  },
  "language_info": {
   "codemirror_mode": {
    "name": "ipython",
    "version": 3
   },
   "file_extension": ".py",
   "mimetype": "text/x-python",
   "name": "python",
   "nbconvert_exporter": "python",
   "pygments_lexer": "ipython3",
   "version": "3.10.9"
  }
 },
 "nbformat": 4,
 "nbformat_minor": 5
}
