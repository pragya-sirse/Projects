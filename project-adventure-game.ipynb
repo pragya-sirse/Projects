{
 "cells": [
  {
   "cell_type": "code",
   "execution_count": 4,
   "id": "1a482ba3",
   "metadata": {},
   "outputs": [
    {
     "name": "stdout",
     "output_type": "stream",
     "text": [
      "enter your name: pragya\n",
      "welcome pragya to this adventure!\n",
      "you are on a dirt road,it has come to an end and to can go left or right.which way wuold you like to go? left\n",
      "you come accross a river,you can walk around it or swim accross?type to walk around and swim to swim accross: swim\n",
      "you swam accross and were eaten by an alligator.\n",
      "thank you for trying pragya\n"
     ]
    }
   ],
   "source": [
    "name=input(\"enter your name: \")\n",
    "print(\"welcome\",name,\"to this adventure!\")\n",
    "answer=input(\"you are on a dirt road,it has come to an end and to can go left or right.which way wuold you like to go? \").lower()\n",
    "if answer==\"left\":\n",
    "    answer=input(\"you come accross a river,you can walk around it or swim accross?type to walk around and swim to swim accross: \")\n",
    "    if answer==\"swim\":\n",
    "        print(\"you swam accross and were eaten by an alligator.\")\n",
    "    elif answer ==\"walk\":\n",
    "        print(\"you walked for many miles,ran out of water and you lost the game.\")\n",
    "    else:\n",
    "        print('not avalid option.you lose.')\n",
    "elif answer==\"right\":\n",
    "    answer=input(\"you come to bridge,it looks wobbly,do you want to cross it or head back (cross/back)?\")\n",
    "    if answer==\"back\":\n",
    "        print(\"you go back and lose.\")\n",
    "    elif answer==\"cross\":\n",
    "        answer=input(\"you cross the bridge and meet a stranger.Do you want to talk to them(yes/no)? \")\n",
    "        if answer==\"yes\":\n",
    "            print(\"you talk to the stranger and they give you gold.you WIN!\")\n",
    "        elif answer==\"no\":\n",
    "            print(\"you ignore the stranger and they are offened and you lose.\")\n",
    "        else:\n",
    "            print('not a valid option.you lose.')\n",
    "    else:\n",
    "        print('not a valid option.you lose.')\n",
    "else:\n",
    "    print('not a valid option.you lose.')\n",
    "\n",
    "print(\"thank you for trying\",name)\n"
   ]
  },
  {
   "cell_type": "code",
   "execution_count": null,
   "id": "c9da37eb",
   "metadata": {},
   "outputs": [],
   "source": []
  },
  {
   "cell_type": "code",
   "execution_count": null,
   "id": "3d8da937",
   "metadata": {},
   "outputs": [],
   "source": []
  }
 ],
 "metadata": {
  "kernelspec": {
   "display_name": "Python 3 (ipykernel)",
   "language": "python",
   "name": "python3"
  },
  "language_info": {
   "codemirror_mode": {
    "name": "ipython",
    "version": 3
   },
   "file_extension": ".py",
   "mimetype": "text/x-python",
   "name": "python",
   "nbconvert_exporter": "python",
   "pygments_lexer": "ipython3",
   "version": "3.10.9"
  }
 },
 "nbformat": 4,
 "nbformat_minor": 5
}
