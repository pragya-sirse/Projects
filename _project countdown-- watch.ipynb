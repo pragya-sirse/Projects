{
 "cells": [
  {
   "cell_type": "code",
   "execution_count": null,
   "id": "efae0b3a",
   "metadata": {},
   "outputs": [],
   "source": [
    "import time\n",
    "t=int(input(\"enter number of seconds: \"))\n",
    "while t>=0:\n",
    "    mins = t//60\n",
    "    secs = t%60\n",
    "    tstr=str(mins)+ \":\" +str(secs)\n",
    "    print(tstr)\n",
    "    t-=1\n",
    "    time.sleep(5)\n"
   ]
  },
  {
   "cell_type": "code",
   "execution_count": null,
   "id": "df606296",
   "metadata": {},
   "outputs": [],
   "source": []
  },
  {
   "cell_type": "code",
   "execution_count": null,
   "id": "38049de9",
   "metadata": {},
   "outputs": [],
   "source": []
  },
  {
   "cell_type": "code",
   "execution_count": null,
   "id": "590df8a5",
   "metadata": {},
   "outputs": [],
   "source": []
  }
 ],
 "metadata": {
  "kernelspec": {
   "display_name": "Python 3 (ipykernel)",
   "language": "python",
   "name": "python3"
  },
  "language_info": {
   "codemirror_mode": {
    "name": "ipython",
    "version": 3
   },
   "file_extension": ".py",
   "mimetype": "text/x-python",
   "name": "python",
   "nbconvert_exporter": "python",
   "pygments_lexer": "ipython3",
   "version": "3.10.9"
  }
 },
 "nbformat": 4,
 "nbformat_minor": 5
}
