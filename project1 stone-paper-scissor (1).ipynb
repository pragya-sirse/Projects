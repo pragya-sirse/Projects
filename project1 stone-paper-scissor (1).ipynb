{
 "cells": [
  {
   "cell_type": "code",
   "execution_count": 1,
   "id": "58e11f3e",
   "metadata": {},
   "outputs": [
    {
     "name": "stdout",
     "output_type": "stream",
     "text": [
      "enter your choice: scissor\n",
      "computer choice is  stone\n",
      "user choice is scissor\n",
      "computer won\n"
     ]
    }
   ],
   "source": [
    "import random\n",
    "options=[\"stone\",\"paper\",\"scissor\"]\n",
    "user_choice=input(\"enter your choice: \")\n",
    "com_choice= random.choice(options)\n",
    "print(\"computer choice is \",com_choice)\n",
    "print(\"user choice is\",user_choice)\n",
    "if(user_choice==\"stone\" and com_choice==\"paper\"):\n",
    "    print(\"computer won\")\n",
    "elif(user_choice==\"stone\" and com_choice==\"scissor\"):\n",
    "    print(\"user won\")\n",
    "elif(user_choice==\"scissor\" and com_choice==\"paper\"):\n",
    "    print(\"user won\")\n",
    "elif(user_choice==\"scissor\" and com_choice==\"stone\"):\n",
    "    print(\"computer won\")\n",
    "elif(user_choice==\"paper\" and com_choice==\"stone\"):\n",
    "    print(\"user won\")\n",
    "elif(user_choice==\"paper\" and com_choice==\"scissor\"):\n",
    "    print(\"computer won\")\n",
    "elif(user_choice==\"paper\" and com_choice==\"paper\"):\n",
    "    print(\"nobody won\")\n",
    "elif(user_choice==\"paper\" and com_choice==\"paper\"):\n",
    "    print(\"nobody won\")\n",
    "elif(user_choice==\"stone\" and com_choice==\"stone\"):\n",
    "    print(\"nobody won\")\n",
    "elif(user_choice==\"scissor\" and com_choice==\"scissor\"):\n",
    "    print(\"nobody won\")\n",
    "else:\n",
    "    print(\"invalid input\")\n",
    "\n",
    "\n",
    "\n"
   ]
  },
  {
   "cell_type": "code",
   "execution_count": null,
   "id": "186b847b",
   "metadata": {},
   "outputs": [],
   "source": []
  }
 ],
 "metadata": {
  "kernelspec": {
   "display_name": "Python 3 (ipykernel)",
   "language": "python",
   "name": "python3"
  },
  "language_info": {
   "codemirror_mode": {
    "name": "ipython",
    "version": 3
   },
   "file_extension": ".py",
   "mimetype": "text/x-python",
   "name": "python",
   "nbconvert_exporter": "python",
   "pygments_lexer": "ipython3",
   "version": "3.10.9"
  }
 },
 "nbformat": 4,
 "nbformat_minor": 5
}
