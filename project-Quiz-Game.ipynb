{
 "cells": [
  {
   "cell_type": "code",
   "execution_count": 1,
   "id": "f24767fb",
   "metadata": {},
   "outputs": [
    {
     "name": "stdout",
     "output_type": "stream",
     "text": [
      "Welcome to my quiz game!\n",
      "Do you want to play?  yes\n",
      "okay! Let's play :)\n",
      "what does CPU stand for? central processing unit\n",
      "correct!\n",
      "what does GPU stand for? graphical user interface\n",
      " incorrect\n",
      "The correct answer is graphics processing unit\n",
      "what does RAM stand for? random access memory\n",
      "correct!\n",
      "what does PSU stand for? power supply\n",
      "correct!\n",
      "you got 3 questions correct!\n",
      "you got 75.0%.\n"
     ]
    }
   ],
   "source": [
    "print(\"Welcome to my quiz game!\")\n",
    "playing = input(\"Do you want to play?  \")\n",
    "if playing.lower() != \"yes\":\n",
    "    quit()\n",
    "print(\"okay! Let's play :)\")\n",
    "score=0\n",
    "answer = input(\"what does CPU stand for? \").lower()\n",
    "if answer == \"central processing unit\":\n",
    "    print('correct!')\n",
    "    score+=1\n",
    "elif(answer != \"central processing unit\"):\n",
    "    print(' incorrect')\n",
    "    print('The correct answer is central processing unit')\n",
    "answer = input(\"what does GPU stand for? \").lower()\n",
    "if answer == \"graphics processing unit\":\n",
    "    print('correct!')\n",
    "    score+=1\n",
    "elif(answer != \"graphics processing unit\"):\n",
    "    print(' incorrect')\n",
    "    print('The correct answer is graphics processing unit')\n",
    "answer = input(\"what does RAM stand for? \").lower()\n",
    "if answer == \"random access memory\":\n",
    "    print('correct!')\n",
    "    score += 1\n",
    "elif(answer != \"random access memory\"):\n",
    "    print(' incorrect')\n",
    "    print('The correct answer is random access memory')\n",
    "answer = input(\"what does PSU stand for? \").lower()\n",
    "if answer == \"power supply\":\n",
    "    print('correct!')\n",
    "    score += 1\n",
    "elif(answer != \"power supply\"):\n",
    "    print(' incorrect')\n",
    "    print('The correct answer is power supply')\n",
    "print(\"you got \" +str(score) + \" questions correct!\")\n",
    "print(\"you got \" +str((score / 4) * 100 )+ \"%.\")\n",
    "\n",
    "    "
   ]
  },
  {
   "cell_type": "code",
   "execution_count": null,
   "id": "972b2f00",
   "metadata": {},
   "outputs": [],
   "source": []
  }
 ],
 "metadata": {
  "kernelspec": {
   "display_name": "Python 3 (ipykernel)",
   "language": "python",
   "name": "python3"
  },
  "language_info": {
   "codemirror_mode": {
    "name": "ipython",
    "version": 3
   },
   "file_extension": ".py",
   "mimetype": "text/x-python",
   "name": "python",
   "nbconvert_exporter": "python",
   "pygments_lexer": "ipython3",
   "version": "3.10.9"
  }
 },
 "nbformat": 4,
 "nbformat_minor": 5
}
