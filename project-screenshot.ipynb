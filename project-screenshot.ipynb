{
 "cells": [
  {
   "cell_type": "code",
   "execution_count": 1,
   "id": "c89be6cd",
   "metadata": {},
   "outputs": [
    {
     "name": "stdout",
     "output_type": "stream",
     "text": [
      "Requirement already satisfied: pyscreenshot in c:\\programdata\\anaconda3\\lib\\site-packages (3.1)\n",
      "Requirement already satisfied: EasyProcess in c:\\programdata\\anaconda3\\lib\\site-packages (from pyscreenshot) (1.1)\n",
      "Requirement already satisfied: mss in c:\\programdata\\anaconda3\\lib\\site-packages (from pyscreenshot) (9.0.1)\n",
      "Requirement already satisfied: entrypoint2 in c:\\programdata\\anaconda3\\lib\\site-packages (from pyscreenshot) (1.1)\n"
     ]
    }
   ],
   "source": [
    "!pip install pyscreenshot"
   ]
  },
  {
   "cell_type": "code",
   "execution_count": 6,
   "id": "ee6f0c0e",
   "metadata": {},
   "outputs": [],
   "source": [
    "image=pyscreenshot.grab() # grab is used to grab the screen\n",
    "image.show()"
   ]
  },
  {
   "cell_type": "code",
   "execution_count": null,
   "id": "d285f50f",
   "metadata": {},
   "outputs": [],
   "source": []
  },
  {
   "cell_type": "code",
   "execution_count": null,
   "id": "54200f55",
   "metadata": {},
   "outputs": [],
   "source": []
  }
 ],
 "metadata": {
  "kernelspec": {
   "display_name": "Python 3 (ipykernel)",
   "language": "python",
   "name": "python3"
  },
  "language_info": {
   "codemirror_mode": {
    "name": "ipython",
    "version": 3
   },
   "file_extension": ".py",
   "mimetype": "text/x-python",
   "name": "python",
   "nbconvert_exporter": "python",
   "pygments_lexer": "ipython3",
   "version": "3.10.9"
  }
 },
 "nbformat": 4,
 "nbformat_minor": 5
}
